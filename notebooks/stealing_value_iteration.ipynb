{
 "cells": [
  {
   "cell_type": "code",
   "execution_count": null,
   "metadata": {},
   "outputs": [],
   "source": [
    "%load_ext autoreload\n",
    "%autoreload 2"
   ]
  },
  {
   "cell_type": "code",
   "execution_count": 170,
   "metadata": {},
   "outputs": [],
   "source": [
    "import gridworlds\n",
    "import value_iteration\n",
    "\n",
    "import numpy as np"
   ]
  },
  {
   "cell_type": "code",
   "execution_count": null,
   "metadata": {},
   "outputs": [],
   "source": [
    "env = gridworlds.StealingGridworld(grid_size=2)\n",
    "transition_matrix, reward_vector = env.get_sparse_transition_matrix_and_reward_vector()\n",
    "optimal_qs, optimal_values = value_iteration.run_value_iteration(\n",
    "    transition_matrix, reward_vector, 100, 0.9\n",
    ")\n",
    "optimal_policy = value_iteration.get_optimal_policy_from_qs(optimal_qs)"
   ]
  }
 ],
 "metadata": {
  "language_info": {
   "name": "python"
  },
  "orig_nbformat": 4
 },
 "nbformat": 4,
 "nbformat_minor": 2
}
